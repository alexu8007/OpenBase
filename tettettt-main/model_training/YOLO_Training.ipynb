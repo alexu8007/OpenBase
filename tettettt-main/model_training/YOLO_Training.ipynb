{
  "nbformat": 4,
  "nbformat_minor": 0,
  "metadata": {
    "colab": {
      "provenance": [],
      "gpuType": "T4"
    },
    "kernelspec": {
      "name": "python3",
      "display_name": "Python 3"
    },
    "language_info": {
      "name": "python"
    },
    "accelerator": "GPU"
  },
  "cells": [
    {
      "cell_type": "code",
      "source": [
        "IMAGE_SIZE=320\n",
        "BATCH_SIZE=16\n",
        "EPOCHS=10"
      ],
      "metadata": {
        "id": "ekwEmEkX7Bs-"
      },
      "execution_count": null,
      "outputs": []
    },
    {
      "cell_type": "code",
      "execution_count": null,
      "metadata": {
        "id": "1JmGSjDEC_29"
      },
      "outputs": [],
      "source": [
        "!pip install ultralytics"
      ]
    },
    {
      "cell_type": "code",
      "source": [
        "import os\n",
        "import requests\n",
        "import yaml\n",
        "import zipfile\n",
        "import shutil\n",
        "from ultralytics import YOLO"
      ],
      "metadata": {
        "id": "SoxnWImKDt0w",
        "colab": {
          "base_uri": "https://localhost:8080/"
        },
        "outputId": "1b1124f3-887c-4235-97f5-3efda68b3af2"
      },
      "execution_count": null,
      "outputs": [
        {
          "output_type": "stream",
          "name": "stdout",
          "text": [
            "Creating new Ultralytics Settings v0.0.6 file ✅ \n",
            "View Ultralytics Settings with 'yolo settings' or at '/root/.config/Ultralytics/settings.json'\n",
            "Update Settings with 'yolo settings key=value', i.e. 'yolo settings runs_dir=path/to/dir'. For help see https://docs.ultralytics.com/quickstart/#ultralytics-settings.\n"
          ]
        }
      ]
    },
    {
      "cell_type": "code",
      "source": [
        "yaml_url = 'https://github.com/JeremyTubongbanua/blind_person_assistant/raw/jt/headset/custom_data.yaml'\n",
        "custom_data_file_name = '/content/custom_data.yaml'\n",
        "\n",
        "response = requests.get(yaml_url)\n",
        "response.raise_for_status()  # Raise an exception for bad status codes\n",
        "\n",
        "with open(custom_data_file_name, 'w') as f:\n",
        "  f.write(response.text)\n",
        "\n",
        "print(f\"YAML file downloaded and saved to {custom_data_file_name}\")"
      ],
      "metadata": {
        "id": "OSLncLxGDPJZ",
        "colab": {
          "base_uri": "https://localhost:8080/"
        },
        "outputId": "cce180b3-f916-4cab-cb79-5b24a9734e28"
      },
      "execution_count": null,
      "outputs": [
        {
          "output_type": "stream",
          "name": "stdout",
          "text": [
            "YAML file downloaded and saved to /content/custom_data.yaml\n"
          ]
        }
      ]
    },
    {
      "cell_type": "code",
      "source": [
        "zip_url = \"https://github.com/JeremyTubongbanua/blind_person_assistant/raw/jt/headset/dataset.zip\"\n",
        "dataset_file_name = \"/content/dataset.zip\"\n",
        "\n",
        "def download_zip(url, filename):\n",
        "    \"\"\"Downloads a file from a URL and saves it to the specified filename if it doesn't already exist.\"\"\"\n",
        "    if os.path.exists(filename):\n",
        "      os.remove(filename)\n",
        "      print(f\"Removed {filename}\")\n",
        "\n",
        "    response = requests.get(url, stream=True)\n",
        "    with open(filename, 'wb') as f:\n",
        "        for chunk in response.iter_content(chunk_size=8192):\n",
        "            f.write(chunk)\n",
        "    print(f\"Downloaded {filename}\")\n",
        "\n",
        "download_zip(zip_url, dataset_file_name)"
      ],
      "metadata": {
        "id": "u8mQUVhuDbcv",
        "colab": {
          "base_uri": "https://localhost:8080/"
        },
        "outputId": "a16eec62-19a4-4cf3-9744-6a76a3c46d91"
      },
      "execution_count": null,
      "outputs": [
        {
          "output_type": "stream",
          "name": "stdout",
          "text": [
            "Downloaded /content/dataset.zip\n"
          ]
        }
      ]
    },
    {
      "cell_type": "code",
      "source": [
        "folder_name = \"./\"\n",
        "\n",
        "with zipfile.ZipFile(dataset_file_name, \"r\") as zip_ref:\n",
        "  zip_ref.extractall(folder_name)\n",
        "  print(f\"Dataset extracted to {folder_name} folder.\")"
      ],
      "metadata": {
        "id": "dT82MC39EEjs"
      },
      "execution_count": null,
      "outputs": []
    },
    {
      "cell_type": "code",
      "source": [
        "def remove_mac_folders(root_dir):\n",
        "  for dirpath, dirnames, filenames in os.walk(root_dir):\n",
        "    for dirname in dirnames:\n",
        "      if dirname == '__MACOSX':\n",
        "        full_path = os.path.join(dirpath, dirname)\n",
        "        try:\n",
        "          shutil.rmtree(full_path)\n",
        "          print(f\"Removed: {full_path}\")\n",
        "        except Exception as e:\n",
        "          print(f\"Error removing {full_path}: {e}\")\n",
        "\n",
        "remove_mac_folders('/content')"
      ],
      "metadata": {
        "id": "5hI2gromEJ1u"
      },
      "execution_count": null,
      "outputs": []
    },
    {
      "cell_type": "code",
      "source": [
        "!yolo train model=yolov8n.pt data={custom_data_file_name} epochs=EPOCHS imgsz=IMAGE_SIZE batch=BATCH_SIZE"
      ],
      "metadata": {
        "id": "1Cd_s6fLEOe9"
      },
      "execution_count": null,
      "outputs": []
    },
    {
      "cell_type": "code",
      "source": [
        "!yolo val model=/content/runs/detect/train/weights/best.pt data={custom_data_file_name} imgsz=IMAGE_SIZE"
      ],
      "metadata": {
        "id": "nrU1SF8bdmj6"
      },
      "execution_count": null,
      "outputs": []
    },
    {
      "cell_type": "code",
      "source": [
        "!yolo predict model=/content/runs/detect/train/weights/best.pt source=/content/dataset/images/test/reduced_IMG_4651.JPG"
      ],
      "metadata": {
        "id": "0FflyxsIdU8n"
      },
      "execution_count": null,
      "outputs": []
    },
    {
      "cell_type": "code",
      "source": [
        "!cp /content/runs/detect/train/weights/best.pt /content/yolov8ntrained.pt"
      ],
      "metadata": {
        "id": "lAUzUEVoeGH5"
      },
      "execution_count": null,
      "outputs": []
    },
    {
      "cell_type": "code",
      "source": [
        "!yolo export model=/content/yolov8ntrained.pt format=onnx"
      ],
      "metadata": {
        "id": "emKSavAbEccz"
      },
      "execution_count": null,
      "outputs": []
    },
    {
      "cell_type": "code",
      "source": [
        "!pip install blobconverter"
      ],
      "metadata": {
        "id": "Dbqm1w-uK7ew"
      },
      "execution_count": null,
      "outputs": []
    },
    {
      "cell_type": "code",
      "source": [
        "SHAVES=10\n",
        "\n",
        "import blobconverter\n",
        "blob_path = blobconverter.from_onnx(\n",
        "    model=\"/content/yolov8ntrained.onnx\",\n",
        "    data_type=\"FP16\",\n",
        "    shaves=SHAVES,\n",
        ")\n",
        "blob_path"
      ],
      "metadata": {
        "id": "eSZIQN4VLGkm"
      },
      "execution_count": null,
      "outputs": []
    },
    {
      "cell_type": "code",
      "source": [
        "import shutil\n",
        "\n",
        "source_path = f'/root/.cache/blobconverter/yolov8ntrained_openvino_2022.1_{SHAVES}shave.blob'\n",
        "destination_path = f'/content/yolov8n_openvino_2022.1_{SHAVES}shave.blob'\n",
        "\n",
        "try:\n",
        "  shutil.move(source_path, destination_path)\n",
        "  print(f\"File moved successfully from {source_path} to {destination_path}\")\n",
        "except FileNotFoundError:\n",
        "  print(f\"File not found at {source_path}\")\n",
        "except Exception as e:\n",
        "  print(f\"An error occurred: {e}\")"
      ],
      "metadata": {
        "id": "lfbPtJN1LylP"
      },
      "execution_count": null,
      "outputs": []
    },
    {
      "cell_type": "code",
      "source": [
        "from google.colab import files\n",
        "files.download('/content/yolov8ntrained.pt')\n",
        "files.download('/content/yolov8ntrained.onnx')\n",
        "files.download(f'/content/yolov8n_openvino_2022.1_{SHAVES}shave.blob')"
      ],
      "metadata": {
        "id": "l76vbuL4lQsC"
      },
      "execution_count": null,
      "outputs": []
    }
  ]
}